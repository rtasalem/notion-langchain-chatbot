{
 "cells": [
  {
   "cell_type": "code",
   "execution_count": 15,
   "metadata": {},
   "outputs": [],
   "source": [
    "import os\n",
    "import openai\n",
    "import sys\n",
    "sys.path.append('../..')\n",
    "\n",
    "from dotenv import load_dotenv, find_dotenv\n",
    "_ = load_dotenv(find_dotenv()) \n",
    "\n",
    "openai.api_key  = os.environ['OPENAI_API_KEY']"
   ]
  },
  {
   "cell_type": "code",
   "execution_count": 16,
   "metadata": {},
   "outputs": [],
   "source": [
    "from langchain.text_splitter import CharacterTextSplitter\n",
    "\n",
    "chunk_size = 1000\n",
    "chunk_overlap = 150\n",
    "\n",
    "text_splitter = CharacterTextSplitter(\n",
    "    separator=\"\\n\",\n",
    "    chunk_size=chunk_size,\n",
    "    chunk_overlap=chunk_overlap,\n",
    "    length_function=len\n",
    ")"
   ]
  },
  {
   "cell_type": "code",
   "execution_count": 17,
   "metadata": {},
   "outputs": [],
   "source": [
    "from langchain.document_loaders import NotionDirectoryLoader\n",
    "loader = NotionDirectoryLoader(\"docs/Notion_DB\")\n",
    "notion_db = loader.load() "
   ]
  },
  {
   "cell_type": "code",
   "execution_count": 20,
   "metadata": {},
   "outputs": [
    {
     "name": "stdout",
     "output_type": "stream",
     "text": [
      "[Document(metadata={'source': 'docs/Notion_DB/Chicken Katsu Curry b8c5004ba8364d6291fdf024aeb24c89.md'}, page_content=\"# Chicken Katsu Curry\\nCreated: May 8, 2020 1:40 PM\\nOrigin: Online\\nSource: https://www.youtube.com/watch?v=D6diqH8RF4U&t=342s\\nDescription: Modified chicken katsu curry recipe, loosely based on Joshua Weissman's recipe (see link above)\\n## Ingredients\\n- Chicken breast/fillets\\n- Rice\\n- Garlic\\n- Ginger\\n- Carrots\\n- Coconut milk\\n- Katsu curry paste (optional)\\n- Curry powder (any heat)\\n- Onion\\n- Turmeric\\n- Cornstarch\\n- Flour\\n- Panko breacrumbs (or normal breadcrumbs if not available)\\n- Honey\\n- Miso paste\\n- Oyster sauce\\n## Instructions\\n**Chicken**\\n1. Tenderise chicken breast until even in thickness.\\n2. Season with salt and pepper and miso paste.\\n3. In one dish, add 2 cups of flour. In a second dish, add 2-3 eggs and 2 tbsp water, whisk together. In a third dish, add 2 cups of Panko breadcrumbs.\\n4. Add 2 cups of oil to frying pan and heat until ready to fry.\\n5. Fry the chicken on each for 3-5 minutes of until golden brown and cooked through.\\n6. Drain and set aside to rest.\\n**Sauce**\"), Document(metadata={'source': 'docs/Notion_DB/Chicken Katsu Curry b8c5004ba8364d6291fdf024aeb24c89.md'}, page_content='5. Fry the chicken on each for 3-5 minutes of until golden brown and cooked through.\\n6. Drain and set aside to rest.\\n**Sauce**\\n1. In a pan add oil, chopped onions and carrots. Cook until the onions begin to caramelise. \\n2. Add minced garlic and ginger. Allow to sizzle for 30 seconds.\\n3. Stir in 1bsp curry powder and 1 tsp turmeric.\\n4. Once well mixed, add 1 can of coconut milk, 3 tbsp ketchup, 1 tbsp oyster sauce. Mix well until colour is even. \\n5. Break 2 pieces of Katsu curry paste. Mix until melted and evenly distributed. If necessary, add water for desired consistency.\\nServe with boiled Basmati rice.')]\n",
      "[Document(metadata={'source': 'docs/Notion_DB/Chicken Katsu Curry b8c5004ba8364d6291fdf024aeb24c89.md'}, page_content=\"# Chicken Katsu Curry\\n\\nCreated: May 8, 2020 1:40 PM\\nOrigin: Online\\nSource: https://www.youtube.com/watch?v=D6diqH8RF4U&t=342s\\nDescription: Modified chicken katsu curry recipe, loosely based on Joshua Weissman's recipe (see link above)\\n\\n## Ingredients\\n\\n- Chicken breast/fillets\\n- Rice\\n- Garlic\\n- Ginger\\n- Carrots\\n- Coconut milk\\n- Katsu curry paste (optional)\\n- Curry powder (any heat)\\n- Onion\\n- Turmeric\\n- Cornstarch\\n- Flour\\n- Panko breacrumbs (or normal breadcrumbs if not available)\\n- Honey\\n- Miso paste\\n- Oyster sauce\\n\\n## Instructions\\n\\n**Chicken**\\n\\n1. Tenderise chicken breast until even in thickness.\\n2. Season with salt and pepper and miso paste.\\n3. In one dish, add 2 cups of flour. In a second dish, add 2-3 eggs and 2 tbsp water, whisk together. In a third dish, add 2 cups of Panko breadcrumbs.\\n4. Add 2 cups of oil to frying pan and heat until ready to fry.\\n5. Fry the chicken on each for 3-5 minutes of until golden brown and cooked through.\\n6. Drain and set aside to rest.\\n\\n**Sauce**\\n\\n1. In a pan add oil, chopped onions and carrots. Cook until the onions begin to caramelise. \\n2. Add minced garlic and ginger. Allow to sizzle for 30 seconds.\\n3. Stir in 1bsp curry powder and 1 tsp turmeric.\\n4. Once well mixed, add 1 can of coconut milk, 3 tbsp ketchup, 1 tbsp oyster sauce. Mix well until colour is even. \\n5. Break 2 pieces of Katsu curry paste. Mix until melted and evenly distributed. If necessary, add water for desired consistency.\\n\\nServe with boiled Basmati rice.\")]\n"
     ]
    }
   ],
   "source": [
    "docs = text_splitter.split_documents(notion_db)"
   ]
  },
  {
   "cell_type": "code",
   "execution_count": 13,
   "metadata": {},
   "outputs": [
    {
     "data": {
      "text/plain": [
       "1"
      ]
     },
     "execution_count": 13,
     "metadata": {},
     "output_type": "execute_result"
    }
   ],
   "source": [
    "len(notion_db)"
   ]
  },
  {
   "cell_type": "code",
   "execution_count": 14,
   "metadata": {},
   "outputs": [
    {
     "data": {
      "text/plain": [
       "2"
      ]
     },
     "execution_count": 14,
     "metadata": {},
     "output_type": "execute_result"
    }
   ],
   "source": [
    "len(docs)"
   ]
  }
 ],
 "metadata": {
  "kernelspec": {
   "display_name": "Python 3 (ipykernel)",
   "language": "python",
   "name": "python3"
  },
  "language_info": {
   "codemirror_mode": {
    "name": "ipython",
    "version": 3
   },
   "file_extension": ".py",
   "mimetype": "text/x-python",
   "name": "python",
   "nbconvert_exporter": "python",
   "pygments_lexer": "ipython3",
   "version": "3.12.3"
  }
 },
 "nbformat": 4,
 "nbformat_minor": 2
}
